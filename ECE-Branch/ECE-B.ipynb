{
 "cells": [
  {
   "cell_type": "code",
   "execution_count": 1,
   "metadata": {},
   "outputs": [],
   "source": [
    "import pandas as pd\n"
   ]
  },
  {
   "cell_type": "code",
   "execution_count": 11,
   "metadata": {},
   "outputs": [],
   "source": [
    "eceA=pd.read_csv(r'C:\\Users\\Prashant\\Desktop\\collegedata\\ecedata\\ece-b.csv')"
   ]
  },
  {
   "cell_type": "code",
   "execution_count": 12,
   "metadata": {},
   "outputs": [],
   "source": [
    "eceA['user'] = eceA['user'].str.split(' ').str[0] # this will remove that extra roll no"
   ]
  },
  {
   "cell_type": "code",
   "execution_count": 13,
   "metadata": {},
   "outputs": [],
   "source": [
    "eceA['Self']=eceA['1']+eceA['6']+eceA['11']+eceA['21']+eceA['26']+eceA['28']+eceA['31']+eceA['36']+eceA['41']+eceA['46'] "
   ]
  },
  {
   "cell_type": "code",
   "execution_count": 14,
   "metadata": {},
   "outputs": [],
   "source": [
    "eceA['Emotions'] = eceA['2']+ eceA['7']+eceA['12']+eceA['17']+eceA['22']+eceA['27']+eceA['32']+eceA['37']+eceA['42']+eceA['47']"
   ]
  },
  {
   "cell_type": "code",
   "execution_count": 15,
   "metadata": {},
   "outputs": [],
   "source": [
    "eceA['motivating']=eceA['3']+eceA['8']+eceA['18']+eceA['13']+eceA['23']+eceA['28']+eceA['33']+eceA['38']+eceA['43']+eceA['48']"
   ]
  },
  {
   "cell_type": "code",
   "execution_count": 16,
   "metadata": {},
   "outputs": [],
   "source": [
    "eceA['Empathy']=eceA['4']+eceA['9']+eceA['14']+eceA['19']+eceA['24']+eceA['29']+eceA['34']+eceA['39']+eceA['44']+eceA['49']"
   ]
  },
  {
   "cell_type": "code",
   "execution_count": 17,
   "metadata": {},
   "outputs": [],
   "source": [
    "eceA['social']=eceA['5']+eceA['10']+eceA['15']+eceA['20']+eceA['25']+eceA['30']+eceA['35']+eceA['40']+eceA['45']+eceA['50']"
   ]
  },
  {
   "cell_type": "code",
   "execution_count": 18,
   "metadata": {},
   "outputs": [],
   "source": [
    "# just to write this code in new csv file \n",
    "newdata = pd.DataFrame(eceA)"
   ]
  },
  {
   "cell_type": "code",
   "execution_count": 19,
   "metadata": {},
   "outputs": [],
   "source": [
    "# after running this command there will be new csv file created in your folder called neweceA.csv\n",
    "newdata.to_csv(\"C:\\\\Users\\\\Prashant\\\\Desktop\\\\collegedata\\\\ecedata\\\\neweceB.csv\")"
   ]
  },
  {
   "cell_type": "code",
   "execution_count": 20,
   "metadata": {},
   "outputs": [
    {
     "data": {
      "text/html": [
       "<div>\n",
       "<style scoped>\n",
       "    .dataframe tbody tr th:only-of-type {\n",
       "        vertical-align: middle;\n",
       "    }\n",
       "\n",
       "    .dataframe tbody tr th {\n",
       "        vertical-align: top;\n",
       "    }\n",
       "\n",
       "    .dataframe thead th {\n",
       "        text-align: right;\n",
       "    }\n",
       "</style>\n",
       "<table border=\"1\" class=\"dataframe\">\n",
       "  <thead>\n",
       "    <tr style=\"text-align: right;\">\n",
       "      <th></th>\n",
       "      <th>Unnamed: 0</th>\n",
       "      <th>user</th>\n",
       "      <th>Email address</th>\n",
       "      <th>Date</th>\n",
       "      <th>1</th>\n",
       "      <th>2</th>\n",
       "      <th>3</th>\n",
       "      <th>4</th>\n",
       "      <th>5</th>\n",
       "      <th>6</th>\n",
       "      <th>...</th>\n",
       "      <th>46</th>\n",
       "      <th>47</th>\n",
       "      <th>48</th>\n",
       "      <th>49</th>\n",
       "      <th>50</th>\n",
       "      <th>Self</th>\n",
       "      <th>Emotions</th>\n",
       "      <th>motivating</th>\n",
       "      <th>Empathy</th>\n",
       "      <th>social</th>\n",
       "    </tr>\n",
       "  </thead>\n",
       "  <tbody>\n",
       "    <tr>\n",
       "      <th>0</th>\n",
       "      <td>0</td>\n",
       "      <td>19241A0461</td>\n",
       "      <td>indukuriabhi@gmail.com</td>\n",
       "      <td>Wednesday, 27 November 2019, 9:54 AM</td>\n",
       "      <td>4</td>\n",
       "      <td>3</td>\n",
       "      <td>4</td>\n",
       "      <td>2</td>\n",
       "      <td>4</td>\n",
       "      <td>5</td>\n",
       "      <td>...</td>\n",
       "      <td>5</td>\n",
       "      <td>4</td>\n",
       "      <td>2</td>\n",
       "      <td>4</td>\n",
       "      <td>4</td>\n",
       "      <td>40</td>\n",
       "      <td>31</td>\n",
       "      <td>30</td>\n",
       "      <td>32</td>\n",
       "      <td>41</td>\n",
       "    </tr>\n",
       "  </tbody>\n",
       "</table>\n",
       "<p>1 rows × 59 columns</p>\n",
       "</div>"
      ],
      "text/plain": [
       "   Unnamed: 0        user           Email address  \\\n",
       "0           0  19241A0461  indukuriabhi@gmail.com   \n",
       "\n",
       "                                   Date  1  2  3  4  5  6  ...  46  47  48  \\\n",
       "0  Wednesday, 27 November 2019, 9:54 AM  4  3  4  2  4  5  ...   5   4   2   \n",
       "\n",
       "   49  50  Self  Emotions  motivating  Empathy  social  \n",
       "0   4   4    40        31          30       32      41  \n",
       "\n",
       "[1 rows x 59 columns]"
      ]
     },
     "execution_count": 20,
     "metadata": {},
     "output_type": "execute_result"
    }
   ],
   "source": [
    "# now write the previous code using this new dataset \n",
    "#which is uploaded on my github\n",
    "import pandas as pd\n",
    "data=pd.read_csv(r'C:\\Users\\Prashant\\Desktop\\collegedata\\ecedata\\neweceB.csv')\n",
    "data.head(1) # now u can see new data is loaded"
   ]
  },
  {
   "cell_type": "code",
   "execution_count": 21,
   "metadata": {},
   "outputs": [],
   "source": [
    "\n",
    "disct = {'user':data['user'],'self':data['Self'],'emotions':data['Emotions'],'motivating':data['motivating'],'Empathy':data['Empathy'],'social':data['social']}\n"
   ]
  },
  {
   "cell_type": "code",
   "execution_count": 22,
   "metadata": {},
   "outputs": [],
   "source": [
    "features=pd.DataFrame(disct)"
   ]
  },
  {
   "cell_type": "code",
   "execution_count": 23,
   "metadata": {},
   "outputs": [
    {
     "data": {
      "text/html": [
       "<div>\n",
       "<style scoped>\n",
       "    .dataframe tbody tr th:only-of-type {\n",
       "        vertical-align: middle;\n",
       "    }\n",
       "\n",
       "    .dataframe tbody tr th {\n",
       "        vertical-align: top;\n",
       "    }\n",
       "\n",
       "    .dataframe thead th {\n",
       "        text-align: right;\n",
       "    }\n",
       "</style>\n",
       "<table border=\"1\" class=\"dataframe\">\n",
       "  <thead>\n",
       "    <tr style=\"text-align: right;\">\n",
       "      <th></th>\n",
       "      <th>user</th>\n",
       "      <th>self</th>\n",
       "      <th>emotions</th>\n",
       "      <th>motivating</th>\n",
       "      <th>Empathy</th>\n",
       "      <th>social</th>\n",
       "    </tr>\n",
       "  </thead>\n",
       "  <tbody>\n",
       "    <tr>\n",
       "      <th>0</th>\n",
       "      <td>19241A0461</td>\n",
       "      <td>40</td>\n",
       "      <td>31</td>\n",
       "      <td>30</td>\n",
       "      <td>32</td>\n",
       "      <td>41</td>\n",
       "    </tr>\n",
       "    <tr>\n",
       "      <th>1</th>\n",
       "      <td>19241A0462</td>\n",
       "      <td>38</td>\n",
       "      <td>36</td>\n",
       "      <td>40</td>\n",
       "      <td>44</td>\n",
       "      <td>40</td>\n",
       "    </tr>\n",
       "    <tr>\n",
       "      <th>2</th>\n",
       "      <td>19241A0463</td>\n",
       "      <td>39</td>\n",
       "      <td>38</td>\n",
       "      <td>39</td>\n",
       "      <td>34</td>\n",
       "      <td>40</td>\n",
       "    </tr>\n",
       "    <tr>\n",
       "      <th>3</th>\n",
       "      <td>19241A0464</td>\n",
       "      <td>38</td>\n",
       "      <td>31</td>\n",
       "      <td>40</td>\n",
       "      <td>33</td>\n",
       "      <td>42</td>\n",
       "    </tr>\n",
       "    <tr>\n",
       "      <th>4</th>\n",
       "      <td>19241A0465</td>\n",
       "      <td>42</td>\n",
       "      <td>44</td>\n",
       "      <td>47</td>\n",
       "      <td>41</td>\n",
       "      <td>46</td>\n",
       "    </tr>\n",
       "    <tr>\n",
       "      <th>5</th>\n",
       "      <td>19241A0466</td>\n",
       "      <td>26</td>\n",
       "      <td>28</td>\n",
       "      <td>20</td>\n",
       "      <td>23</td>\n",
       "      <td>27</td>\n",
       "    </tr>\n",
       "    <tr>\n",
       "      <th>6</th>\n",
       "      <td>19241A0467</td>\n",
       "      <td>43</td>\n",
       "      <td>35</td>\n",
       "      <td>35</td>\n",
       "      <td>42</td>\n",
       "      <td>23</td>\n",
       "    </tr>\n",
       "    <tr>\n",
       "      <th>7</th>\n",
       "      <td>19241A0468</td>\n",
       "      <td>44</td>\n",
       "      <td>33</td>\n",
       "      <td>44</td>\n",
       "      <td>47</td>\n",
       "      <td>42</td>\n",
       "    </tr>\n",
       "    <tr>\n",
       "      <th>8</th>\n",
       "      <td>19241A0469</td>\n",
       "      <td>47</td>\n",
       "      <td>41</td>\n",
       "      <td>34</td>\n",
       "      <td>44</td>\n",
       "      <td>40</td>\n",
       "    </tr>\n",
       "    <tr>\n",
       "      <th>9</th>\n",
       "      <td>19241A0470</td>\n",
       "      <td>43</td>\n",
       "      <td>41</td>\n",
       "      <td>43</td>\n",
       "      <td>42</td>\n",
       "      <td>41</td>\n",
       "    </tr>\n",
       "    <tr>\n",
       "      <th>10</th>\n",
       "      <td>19241A0471</td>\n",
       "      <td>46</td>\n",
       "      <td>37</td>\n",
       "      <td>42</td>\n",
       "      <td>43</td>\n",
       "      <td>47</td>\n",
       "    </tr>\n",
       "    <tr>\n",
       "      <th>11</th>\n",
       "      <td>19241A0472</td>\n",
       "      <td>41</td>\n",
       "      <td>28</td>\n",
       "      <td>38</td>\n",
       "      <td>43</td>\n",
       "      <td>41</td>\n",
       "    </tr>\n",
       "    <tr>\n",
       "      <th>12</th>\n",
       "      <td>19241A0473</td>\n",
       "      <td>42</td>\n",
       "      <td>31</td>\n",
       "      <td>35</td>\n",
       "      <td>36</td>\n",
       "      <td>40</td>\n",
       "    </tr>\n",
       "    <tr>\n",
       "      <th>13</th>\n",
       "      <td>19241A0474</td>\n",
       "      <td>38</td>\n",
       "      <td>44</td>\n",
       "      <td>40</td>\n",
       "      <td>43</td>\n",
       "      <td>39</td>\n",
       "    </tr>\n",
       "    <tr>\n",
       "      <th>14</th>\n",
       "      <td>19241A0475</td>\n",
       "      <td>39</td>\n",
       "      <td>36</td>\n",
       "      <td>33</td>\n",
       "      <td>35</td>\n",
       "      <td>44</td>\n",
       "    </tr>\n",
       "    <tr>\n",
       "      <th>15</th>\n",
       "      <td>19241A0476</td>\n",
       "      <td>44</td>\n",
       "      <td>38</td>\n",
       "      <td>37</td>\n",
       "      <td>44</td>\n",
       "      <td>34</td>\n",
       "    </tr>\n",
       "    <tr>\n",
       "      <th>16</th>\n",
       "      <td>19241A0477</td>\n",
       "      <td>32</td>\n",
       "      <td>34</td>\n",
       "      <td>46</td>\n",
       "      <td>41</td>\n",
       "      <td>47</td>\n",
       "    </tr>\n",
       "    <tr>\n",
       "      <th>17</th>\n",
       "      <td>19241A0478</td>\n",
       "      <td>46</td>\n",
       "      <td>38</td>\n",
       "      <td>44</td>\n",
       "      <td>42</td>\n",
       "      <td>42</td>\n",
       "    </tr>\n",
       "    <tr>\n",
       "      <th>18</th>\n",
       "      <td>19241A0479</td>\n",
       "      <td>38</td>\n",
       "      <td>37</td>\n",
       "      <td>36</td>\n",
       "      <td>36</td>\n",
       "      <td>38</td>\n",
       "    </tr>\n",
       "    <tr>\n",
       "      <th>19</th>\n",
       "      <td>19241A0480</td>\n",
       "      <td>32</td>\n",
       "      <td>36</td>\n",
       "      <td>42</td>\n",
       "      <td>37</td>\n",
       "      <td>39</td>\n",
       "    </tr>\n",
       "    <tr>\n",
       "      <th>20</th>\n",
       "      <td>19241A0481</td>\n",
       "      <td>42</td>\n",
       "      <td>37</td>\n",
       "      <td>40</td>\n",
       "      <td>35</td>\n",
       "      <td>39</td>\n",
       "    </tr>\n",
       "    <tr>\n",
       "      <th>21</th>\n",
       "      <td>19241A0482</td>\n",
       "      <td>40</td>\n",
       "      <td>38</td>\n",
       "      <td>44</td>\n",
       "      <td>40</td>\n",
       "      <td>38</td>\n",
       "    </tr>\n",
       "    <tr>\n",
       "      <th>22</th>\n",
       "      <td>19241A0483</td>\n",
       "      <td>44</td>\n",
       "      <td>37</td>\n",
       "      <td>38</td>\n",
       "      <td>36</td>\n",
       "      <td>42</td>\n",
       "    </tr>\n",
       "    <tr>\n",
       "      <th>23</th>\n",
       "      <td>19241A0484</td>\n",
       "      <td>45</td>\n",
       "      <td>38</td>\n",
       "      <td>41</td>\n",
       "      <td>41</td>\n",
       "      <td>26</td>\n",
       "    </tr>\n",
       "    <tr>\n",
       "      <th>24</th>\n",
       "      <td>19241A0485</td>\n",
       "      <td>47</td>\n",
       "      <td>40</td>\n",
       "      <td>43</td>\n",
       "      <td>46</td>\n",
       "      <td>47</td>\n",
       "    </tr>\n",
       "    <tr>\n",
       "      <th>25</th>\n",
       "      <td>19241A0486</td>\n",
       "      <td>46</td>\n",
       "      <td>37</td>\n",
       "      <td>42</td>\n",
       "      <td>48</td>\n",
       "      <td>44</td>\n",
       "    </tr>\n",
       "    <tr>\n",
       "      <th>26</th>\n",
       "      <td>19241A0487</td>\n",
       "      <td>43</td>\n",
       "      <td>33</td>\n",
       "      <td>38</td>\n",
       "      <td>39</td>\n",
       "      <td>44</td>\n",
       "    </tr>\n",
       "    <tr>\n",
       "      <th>27</th>\n",
       "      <td>19241A0488</td>\n",
       "      <td>26</td>\n",
       "      <td>29</td>\n",
       "      <td>38</td>\n",
       "      <td>38</td>\n",
       "      <td>31</td>\n",
       "    </tr>\n",
       "    <tr>\n",
       "      <th>28</th>\n",
       "      <td>19241A0489</td>\n",
       "      <td>38</td>\n",
       "      <td>31</td>\n",
       "      <td>40</td>\n",
       "      <td>35</td>\n",
       "      <td>35</td>\n",
       "    </tr>\n",
       "    <tr>\n",
       "      <th>29</th>\n",
       "      <td>19241A0490</td>\n",
       "      <td>39</td>\n",
       "      <td>27</td>\n",
       "      <td>35</td>\n",
       "      <td>40</td>\n",
       "      <td>34</td>\n",
       "    </tr>\n",
       "    <tr>\n",
       "      <th>30</th>\n",
       "      <td>19241A0491</td>\n",
       "      <td>46</td>\n",
       "      <td>38</td>\n",
       "      <td>42</td>\n",
       "      <td>41</td>\n",
       "      <td>45</td>\n",
       "    </tr>\n",
       "    <tr>\n",
       "      <th>31</th>\n",
       "      <td>19241A0492</td>\n",
       "      <td>47</td>\n",
       "      <td>40</td>\n",
       "      <td>46</td>\n",
       "      <td>42</td>\n",
       "      <td>50</td>\n",
       "    </tr>\n",
       "    <tr>\n",
       "      <th>32</th>\n",
       "      <td>19241A0493</td>\n",
       "      <td>40</td>\n",
       "      <td>26</td>\n",
       "      <td>32</td>\n",
       "      <td>32</td>\n",
       "      <td>43</td>\n",
       "    </tr>\n",
       "    <tr>\n",
       "      <th>33</th>\n",
       "      <td>19241A0494</td>\n",
       "      <td>44</td>\n",
       "      <td>40</td>\n",
       "      <td>40</td>\n",
       "      <td>45</td>\n",
       "      <td>36</td>\n",
       "    </tr>\n",
       "    <tr>\n",
       "      <th>34</th>\n",
       "      <td>19241A0495</td>\n",
       "      <td>45</td>\n",
       "      <td>33</td>\n",
       "      <td>45</td>\n",
       "      <td>47</td>\n",
       "      <td>43</td>\n",
       "    </tr>\n",
       "    <tr>\n",
       "      <th>35</th>\n",
       "      <td>19241A0496</td>\n",
       "      <td>34</td>\n",
       "      <td>36</td>\n",
       "      <td>31</td>\n",
       "      <td>35</td>\n",
       "      <td>30</td>\n",
       "    </tr>\n",
       "    <tr>\n",
       "      <th>36</th>\n",
       "      <td>19241A0497</td>\n",
       "      <td>41</td>\n",
       "      <td>39</td>\n",
       "      <td>37</td>\n",
       "      <td>42</td>\n",
       "      <td>36</td>\n",
       "    </tr>\n",
       "    <tr>\n",
       "      <th>37</th>\n",
       "      <td>19241A0498</td>\n",
       "      <td>37</td>\n",
       "      <td>36</td>\n",
       "      <td>45</td>\n",
       "      <td>40</td>\n",
       "      <td>47</td>\n",
       "    </tr>\n",
       "    <tr>\n",
       "      <th>38</th>\n",
       "      <td>19241A0499</td>\n",
       "      <td>40</td>\n",
       "      <td>34</td>\n",
       "      <td>40</td>\n",
       "      <td>35</td>\n",
       "      <td>40</td>\n",
       "    </tr>\n",
       "    <tr>\n",
       "      <th>39</th>\n",
       "      <td>19241A04A0</td>\n",
       "      <td>50</td>\n",
       "      <td>46</td>\n",
       "      <td>46</td>\n",
       "      <td>46</td>\n",
       "      <td>49</td>\n",
       "    </tr>\n",
       "    <tr>\n",
       "      <th>40</th>\n",
       "      <td>19241A04A1</td>\n",
       "      <td>44</td>\n",
       "      <td>41</td>\n",
       "      <td>41</td>\n",
       "      <td>40</td>\n",
       "      <td>45</td>\n",
       "    </tr>\n",
       "    <tr>\n",
       "      <th>41</th>\n",
       "      <td>19241A04A2</td>\n",
       "      <td>37</td>\n",
       "      <td>35</td>\n",
       "      <td>40</td>\n",
       "      <td>35</td>\n",
       "      <td>39</td>\n",
       "    </tr>\n",
       "    <tr>\n",
       "      <th>42</th>\n",
       "      <td>19241A04A3</td>\n",
       "      <td>41</td>\n",
       "      <td>30</td>\n",
       "      <td>34</td>\n",
       "      <td>38</td>\n",
       "      <td>42</td>\n",
       "    </tr>\n",
       "    <tr>\n",
       "      <th>43</th>\n",
       "      <td>19241A04A4</td>\n",
       "      <td>41</td>\n",
       "      <td>33</td>\n",
       "      <td>36</td>\n",
       "      <td>39</td>\n",
       "      <td>41</td>\n",
       "    </tr>\n",
       "    <tr>\n",
       "      <th>44</th>\n",
       "      <td>19241A04A5</td>\n",
       "      <td>43</td>\n",
       "      <td>44</td>\n",
       "      <td>36</td>\n",
       "      <td>47</td>\n",
       "      <td>42</td>\n",
       "    </tr>\n",
       "    <tr>\n",
       "      <th>45</th>\n",
       "      <td>19241A04A6</td>\n",
       "      <td>40</td>\n",
       "      <td>39</td>\n",
       "      <td>36</td>\n",
       "      <td>39</td>\n",
       "      <td>41</td>\n",
       "    </tr>\n",
       "    <tr>\n",
       "      <th>46</th>\n",
       "      <td>19241A04A7</td>\n",
       "      <td>38</td>\n",
       "      <td>43</td>\n",
       "      <td>45</td>\n",
       "      <td>42</td>\n",
       "      <td>47</td>\n",
       "    </tr>\n",
       "    <tr>\n",
       "      <th>47</th>\n",
       "      <td>19241A04A8</td>\n",
       "      <td>41</td>\n",
       "      <td>38</td>\n",
       "      <td>41</td>\n",
       "      <td>41</td>\n",
       "      <td>43</td>\n",
       "    </tr>\n",
       "    <tr>\n",
       "      <th>48</th>\n",
       "      <td>19241A04A9</td>\n",
       "      <td>43</td>\n",
       "      <td>35</td>\n",
       "      <td>43</td>\n",
       "      <td>36</td>\n",
       "      <td>40</td>\n",
       "    </tr>\n",
       "    <tr>\n",
       "      <th>49</th>\n",
       "      <td>19241A04B0</td>\n",
       "      <td>37</td>\n",
       "      <td>37</td>\n",
       "      <td>34</td>\n",
       "      <td>35</td>\n",
       "      <td>36</td>\n",
       "    </tr>\n",
       "    <tr>\n",
       "      <th>50</th>\n",
       "      <td>19241A04B1</td>\n",
       "      <td>38</td>\n",
       "      <td>39</td>\n",
       "      <td>34</td>\n",
       "      <td>37</td>\n",
       "      <td>39</td>\n",
       "    </tr>\n",
       "    <tr>\n",
       "      <th>51</th>\n",
       "      <td>19241A04B2</td>\n",
       "      <td>49</td>\n",
       "      <td>45</td>\n",
       "      <td>42</td>\n",
       "      <td>45</td>\n",
       "      <td>46</td>\n",
       "    </tr>\n",
       "    <tr>\n",
       "      <th>52</th>\n",
       "      <td>19241A04B3</td>\n",
       "      <td>35</td>\n",
       "      <td>28</td>\n",
       "      <td>31</td>\n",
       "      <td>39</td>\n",
       "      <td>34</td>\n",
       "    </tr>\n",
       "    <tr>\n",
       "      <th>53</th>\n",
       "      <td>19241A04B4</td>\n",
       "      <td>42</td>\n",
       "      <td>31</td>\n",
       "      <td>36</td>\n",
       "      <td>34</td>\n",
       "      <td>40</td>\n",
       "    </tr>\n",
       "    <tr>\n",
       "      <th>54</th>\n",
       "      <td>19241A04B6</td>\n",
       "      <td>44</td>\n",
       "      <td>40</td>\n",
       "      <td>41</td>\n",
       "      <td>43</td>\n",
       "      <td>42</td>\n",
       "    </tr>\n",
       "    <tr>\n",
       "      <th>55</th>\n",
       "      <td>19241A04B7</td>\n",
       "      <td>41</td>\n",
       "      <td>32</td>\n",
       "      <td>37</td>\n",
       "      <td>39</td>\n",
       "      <td>35</td>\n",
       "    </tr>\n",
       "    <tr>\n",
       "      <th>56</th>\n",
       "      <td>19241A04B8</td>\n",
       "      <td>38</td>\n",
       "      <td>33</td>\n",
       "      <td>38</td>\n",
       "      <td>35</td>\n",
       "      <td>36</td>\n",
       "    </tr>\n",
       "    <tr>\n",
       "      <th>57</th>\n",
       "      <td>19241A04B9</td>\n",
       "      <td>48</td>\n",
       "      <td>41</td>\n",
       "      <td>43</td>\n",
       "      <td>48</td>\n",
       "      <td>42</td>\n",
       "    </tr>\n",
       "    <tr>\n",
       "      <th>58</th>\n",
       "      <td>19241A04C0</td>\n",
       "      <td>38</td>\n",
       "      <td>39</td>\n",
       "      <td>39</td>\n",
       "      <td>39</td>\n",
       "      <td>37</td>\n",
       "    </tr>\n",
       "  </tbody>\n",
       "</table>\n",
       "</div>"
      ],
      "text/plain": [
       "          user  self  emotions  motivating  Empathy  social\n",
       "0   19241A0461    40        31          30       32      41\n",
       "1   19241A0462    38        36          40       44      40\n",
       "2   19241A0463    39        38          39       34      40\n",
       "3   19241A0464    38        31          40       33      42\n",
       "4   19241A0465    42        44          47       41      46\n",
       "5   19241A0466    26        28          20       23      27\n",
       "6   19241A0467    43        35          35       42      23\n",
       "7   19241A0468    44        33          44       47      42\n",
       "8   19241A0469    47        41          34       44      40\n",
       "9   19241A0470    43        41          43       42      41\n",
       "10  19241A0471    46        37          42       43      47\n",
       "11  19241A0472    41        28          38       43      41\n",
       "12  19241A0473    42        31          35       36      40\n",
       "13  19241A0474    38        44          40       43      39\n",
       "14  19241A0475    39        36          33       35      44\n",
       "15  19241A0476    44        38          37       44      34\n",
       "16  19241A0477    32        34          46       41      47\n",
       "17  19241A0478    46        38          44       42      42\n",
       "18  19241A0479    38        37          36       36      38\n",
       "19  19241A0480    32        36          42       37      39\n",
       "20  19241A0481    42        37          40       35      39\n",
       "21  19241A0482    40        38          44       40      38\n",
       "22  19241A0483    44        37          38       36      42\n",
       "23  19241A0484    45        38          41       41      26\n",
       "24  19241A0485    47        40          43       46      47\n",
       "25  19241A0486    46        37          42       48      44\n",
       "26  19241A0487    43        33          38       39      44\n",
       "27  19241A0488    26        29          38       38      31\n",
       "28  19241A0489    38        31          40       35      35\n",
       "29  19241A0490    39        27          35       40      34\n",
       "30  19241A0491    46        38          42       41      45\n",
       "31  19241A0492    47        40          46       42      50\n",
       "32  19241A0493    40        26          32       32      43\n",
       "33  19241A0494    44        40          40       45      36\n",
       "34  19241A0495    45        33          45       47      43\n",
       "35  19241A0496    34        36          31       35      30\n",
       "36  19241A0497    41        39          37       42      36\n",
       "37  19241A0498    37        36          45       40      47\n",
       "38  19241A0499    40        34          40       35      40\n",
       "39  19241A04A0    50        46          46       46      49\n",
       "40  19241A04A1    44        41          41       40      45\n",
       "41  19241A04A2    37        35          40       35      39\n",
       "42  19241A04A3    41        30          34       38      42\n",
       "43  19241A04A4    41        33          36       39      41\n",
       "44  19241A04A5    43        44          36       47      42\n",
       "45  19241A04A6    40        39          36       39      41\n",
       "46  19241A04A7    38        43          45       42      47\n",
       "47  19241A04A8    41        38          41       41      43\n",
       "48  19241A04A9    43        35          43       36      40\n",
       "49  19241A04B0    37        37          34       35      36\n",
       "50  19241A04B1    38        39          34       37      39\n",
       "51  19241A04B2    49        45          42       45      46\n",
       "52  19241A04B3    35        28          31       39      34\n",
       "53  19241A04B4    42        31          36       34      40\n",
       "54  19241A04B6    44        40          41       43      42\n",
       "55  19241A04B7    41        32          37       39      35\n",
       "56  19241A04B8    38        33          38       35      36\n",
       "57  19241A04B9    48        41          43       48      42\n",
       "58  19241A04C0    38        39          39       39      37"
      ]
     },
     "execution_count": 23,
     "metadata": {},
     "output_type": "execute_result"
    }
   ],
   "source": [
    "features"
   ]
  },
  {
   "cell_type": "code",
   "execution_count": 24,
   "metadata": {},
   "outputs": [],
   "source": [
    "import matplotlib.pyplot as plt"
   ]
  },
  {
   "cell_type": "code",
   "execution_count": 25,
   "metadata": {},
   "outputs": [],
   "source": [
    "\n",
    "\n",
    "import seaborn as sns\n",
    "import numpy as np\n",
    "\n"
   ]
  },
  {
   "cell_type": "code",
   "execution_count": 38,
   "metadata": {},
   "outputs": [
    {
     "data": {
      "text/plain": [
       "Text(0.5, 1.0, 'ECE-B')"
      ]
     },
     "execution_count": 38,
     "metadata": {},
     "output_type": "execute_result"
    },
    {
     "data": {
      "image/png": "[encoded data removed]",
      "text/plain": [
       "<Figure size 432x288 with 1 Axes>"
      ]
     },
     "metadata": {},
     "output_type": "display_data"
    }
   ],
   "source": [
    "values=[6,53]\n",
    "labels=[\"SelfAwareness Problem\",\"Normal students\"]\n",
    "explode=[0.2,0]\n",
    "color=['red','lime']\n",
    "plt.pie(values,labels=labels,autopct='%2f',explode=explode,colors=color)\n",
    "plt.title(\"ECE-B\")"
   ]
  },
  {
   "cell_type": "code",
   "execution_count": 42,
   "metadata": {},
   "outputs": [
    {
     "data": {
      "image/png": "[encoded data removed]",
      "text/plain": [
       "<Figure size 1080x288 with 1 Axes>"
      ]
     },
     "metadata": {
      "needs_background": "light"
     },
     "output_type": "display_data"
    },
    {
     "name": "stdout",
     "output_type": "stream",
     "text": [
      "student having marks below 35 6\n",
      "student having marks above 35 53\n"
     ]
    }
   ],
   "source": [
    "me= pd.DataFrame(features['self'], columns=['self'])\n",
    "\n",
    "\n",
    "x = features['user']\n",
    "y = me['self'].sort_values()\n",
    "\n",
    "mask1 = y <= 35\n",
    "mask2 = y > 35\n",
    "\n",
    "fig = plt.figure()\n",
    "plt.xticks(rotation=90)\n",
    "fig.set_figheight(4)\n",
    "fig.set_figwidth(15)\n",
    "plt.axhline(y=35,linewidth=1,ls='-.')\n",
    "\n",
    "\n",
    "plt.bar(x[mask1], y[mask1], color = 'red')\n",
    "\n",
    "plt.bar(x[mask2], y[mask2], color = 'lime')\n",
    "plt.title('SelfAwareness')\n",
    "plt.gca().legend(('score=35','score<35'))\n",
    "plt.xlabel('Students')\n",
    "plt.ylabel('Score')\n",
    "plt.show()\n",
    "print(\"student having marks below 35\",len(x[mask1]))\n",
    "print(\"student having marks above 35\",len(x[mask2]))\n"
   ]
  },
  {
   "cell_type": "markdown",
   "metadata": {},
   "source": [
    "### Social"
   ]
  },
  {
   "cell_type": "code",
   "execution_count": 46,
   "metadata": {},
   "outputs": [
    {
     "data": {
      "text/plain": [
       "Text(0.5, 1.0, 'ECE-B')"
      ]
     },
     "execution_count": 46,
     "metadata": {},
     "output_type": "execute_result"
    },
    {
     "data": {
      "image/png": "[encoded data removed]",
      "text/plain": [
       "<Figure size 432x288 with 1 Axes>"
      ]
     },
     "metadata": {},
     "output_type": "display_data"
    }
   ],
   "source": [
    "values=[10,49] # these value are written from down bargraph there i have printed both values so update values from there\n",
    "labels=[\"Socialweakness\",\"Normal students\"]\n",
    "explode=[0.2,0]\n",
    "color=['red','lime']\n",
    "plt.pie(values,labels=labels,autopct='%2f',explode=explode,colors=color)\n",
    "plt.title(\"ECE-B\")"
   ]
  },
  {
   "cell_type": "code",
   "execution_count": 44,
   "metadata": {},
   "outputs": [
    {
     "data": {
      "image/png": "[encoded data removed]",
      "text/plain": [
       "<Figure size 1080x288 with 1 Axes>"
      ]
     },
     "metadata": {
      "needs_background": "light"
     },
     "output_type": "display_data"
    },
    {
     "name": "stdout",
     "output_type": "stream",
     "text": [
      "student having marks below 35 10\n",
      "student having marks above 35 49\n"
     ]
    }
   ],
   "source": [
    "import numpy as np\n",
    "import matplotlib.pyplot as plt\n",
    "%matplotlib inline\n",
    "\n",
    "sk = pd.DataFrame(features['social'], columns=['social'])\n",
    "#newdata.index = np.arange(1, len(newdata) + 1)\n",
    "x = features['user']\n",
    "y = sk['social'].sort_values()\n",
    "\n",
    "mask1 = y <= 35\n",
    "mask2 = y > 35\n",
    "fig = plt.figure()\n",
    "fig.set_figheight(4)\n",
    "fig.set_figwidth(15)\n",
    "plt.xticks(rotation=90)\n",
    "plt.axhline(y=35,linewidth=1,ls='-.')\n",
    "plt.bar(x[mask1], y[mask1], color = 'red')\n",
    "plt.bar(x[mask2], y[mask2], color = 'lime')\n",
    "\n",
    "plt.gca().legend(('score=35','score<35'))\n",
    "plt.xlabel('students')\n",
    "plt.ylabel('Score')\n",
    "plt.title('BAR-GRAPH FOR SOCIAL WEAKNESS')\n",
    "plt.show()\n",
    "print(\"student having marks below 35\",len(x[mask1]))\n",
    "print(\"student having marks above 35\",len(x[mask2]))\n"
   ]
  },
  {
   "cell_type": "markdown",
   "metadata": {},
   "source": [
    "## Empathy"
   ]
  },
  {
   "cell_type": "code",
   "execution_count": 41,
   "metadata": {},
   "outputs": [
    {
     "data": {
      "text/plain": [
       "Text(0.5, 1.0, 'ECE-B')"
      ]
     },
     "execution_count": 41,
     "metadata": {},
     "output_type": "execute_result"
    },
    {
     "data": {
      "image/png": "[encoded data removed]",
      "text/plain": [
       "<Figure size 432x288 with 1 Axes>"
      ]
     },
     "metadata": {},
     "output_type": "display_data"
    }
   ],
   "source": [
    "values=[14,45]\n",
    "labels=[\"Low Empathy\",\"Normal students\"]\n",
    "explode=[0.2,0]\n",
    "color=['red','lime']\n",
    "plt.pie(values,labels=labels,autopct='%2f',explode=explode,colors=color)\n",
    "plt.title(\"ECE-B\")"
   ]
  },
  {
   "cell_type": "code",
   "execution_count": 31,
   "metadata": {},
   "outputs": [
    {
     "data": {
      "image/png": "[encoded data removed]",
      "text/plain": [
       "<Figure size 1080x288 with 1 Axes>"
      ]
     },
     "metadata": {
      "needs_background": "light"
     },
     "output_type": "display_data"
    },
    {
     "name": "stdout",
     "output_type": "stream",
     "text": [
      "student having marks below 35 14\n",
      "student having marks above 35 45\n"
     ]
    }
   ],
   "source": [
    "\n",
    "\n",
    "import numpy as np\n",
    "import matplotlib.pyplot as plt\n",
    "\n",
    "dict = {'Empathy':features['Empathy']}\n",
    "empathy = pd.DataFrame(dict)\n",
    "x = features['user']\n",
    "y = empathy['Empathy'].sort_values()\n",
    "fig = plt.figure()\n",
    "fig.set_figheight(4)\n",
    "fig.set_figwidth(15)\n",
    "mask1 = y <= 35\n",
    "mask2 = y > 35\n",
    "plt.xticks(rotation=90)\n",
    "plt.axhline(y=35,linewidth=1,ls='-.',color='red')\n",
    "plt.bar(x[mask1], y[mask1], color = 'red')\n",
    "plt.bar(x[mask2], y[mask2], color = 'lime')\n",
    "plt.xlabel(\"Students\")\n",
    "plt.ylabel(\"Score\")\n",
    "\n",
    "plt.gca().legend(('score=35','score<35'))\n",
    "\n",
    "plt.show()\n",
    "print(\"student having marks below 35\",len(x[mask1]))\n",
    "print(\"student having marks above 35\",len(x[mask2]))\n",
    "\n",
    "\n"
   ]
  },
  {
   "cell_type": "markdown",
   "metadata": {},
   "source": [
    "## Emotions"
   ]
  },
  {
   "cell_type": "code",
   "execution_count": 37,
   "metadata": {},
   "outputs": [
    {
     "data": {
      "text/plain": [
       "Text(0.5, 1.0, 'ECE-B')"
      ]
     },
     "execution_count": 37,
     "metadata": {},
     "output_type": "execute_result"
    },
    {
     "data": {
      "image/png": "[encoded data removed]",
      "text/plain": [
       "<Figure size 432x288 with 1 Axes>"
      ]
     },
     "metadata": {},
     "output_type": "display_data"
    }
   ],
   "source": [
    "values=[23,36]\n",
    "labels=[\"Emotion\",\"Normal students\"]\n",
    "explode=[0.2,0]\n",
    "color=['red','lime']\n",
    "plt.pie(values,labels=labels,autopct='%2f',explode=explode,colors=color)\n",
    "plt.title(\"ECE-B\")"
   ]
  },
  {
   "cell_type": "code",
   "execution_count": 33,
   "metadata": {},
   "outputs": [
    {
     "data": {
      "image/png": "[encoded data removed]",
      "text/plain": [
       "<Figure size 1080x288 with 1 Axes>"
      ]
     },
     "metadata": {
      "needs_background": "light"
     },
     "output_type": "display_data"
    },
    {
     "name": "stdout",
     "output_type": "stream",
     "text": [
      "student having marks below 35 23\n",
      "student having marks above 35 36\n"
     ]
    }
   ],
   "source": [
    "import numpy as np\n",
    "import matplotlib.pyplot as plt\n",
    "\n",
    "dict = {'emotions':features['emotions']}\n",
    "emotions = pd.DataFrame(dict)\n",
    "x = features['user']\n",
    "y = emotions['emotions'].sort_values()\n",
    "fig = plt.figure()\n",
    "fig.set_figheight(4)\n",
    "fig.set_figwidth(15)\n",
    "mask1 = y <= 35\n",
    "mask2 = y > 35\n",
    "plt.xticks(rotation=90)\n",
    "plt.axhline(y=35,linewidth=1,ls='-.',color='red')\n",
    "plt.bar(x[mask1], y[mask1], color = 'red')\n",
    "plt.bar(x[mask2], y[mask2], color = 'lime')\n",
    "plt.xlabel(\"Students\")\n",
    "plt.ylabel(\"Score\")\n",
    "\n",
    "plt.gca().legend(('score=35','score<35'))\n",
    "\n",
    "plt.show()\n",
    "print(\"student having marks below 35\",len(x[mask1]))\n",
    "print(\"student having marks above 35\",len(x[mask2]))"
   ]
  },
  {
   "cell_type": "markdown",
   "metadata": {},
   "source": [
    "## Motivating oneself"
   ]
  },
  {
   "cell_type": "code",
   "execution_count": 39,
   "metadata": {},
   "outputs": [
    {
     "data": {
      "text/plain": [
       "Text(0.5, 1.0, 'ECE-B')"
      ]
     },
     "execution_count": 39,
     "metadata": {},
     "output_type": "execute_result"
    },
    {
     "data": {
      "image/png": "[encoded data removed]",
      "text/plain": [
       "<Figure size 432x288 with 1 Axes>"
      ]
     },
     "metadata": {},
     "output_type": "display_data"
    }
   ],
   "source": [
    "values=[13,46]\n",
    "labels=[\"Motivating-oneself Problem\",\"Normal students\"]\n",
    "explode=[0.2,0]\n",
    "color=['red','lime']\n",
    "plt.pie(values,labels=labels,autopct='%2f',explode=explode,colors=color)\n",
    "plt.title(\"ECE-B\")"
   ]
  },
  {
   "cell_type": "code",
   "execution_count": 36,
   "metadata": {},
   "outputs": [
    {
     "data": {
      "image/png": "[encoded data removed]",
      "text/plain": [
       "<Figure size 1080x288 with 1 Axes>"
      ]
     },
     "metadata": {
      "needs_background": "light"
     },
     "output_type": "display_data"
    },
    {
     "name": "stdout",
     "output_type": "stream",
     "text": [
      "student having marks below 35 13\n",
      "student having marks above 35 46\n"
     ]
    }
   ],
   "source": [
    "import numpy as np\n",
    "import matplotlib.pyplot as plt\n",
    "\n",
    "dict = {'motivating':features['motivating']}\n",
    "motivating = pd.DataFrame(dict)\n",
    "x = features['user']\n",
    "y = motivating['motivating'].sort_values()\n",
    "fig = plt.figure()\n",
    "fig.set_figheight(4)\n",
    "fig.set_figwidth(15)\n",
    "mask1 = y <= 35\n",
    "mask2 = y > 35\n",
    "plt.xticks(rotation=90)\n",
    "plt.axhline(y=35,linewidth=1,ls='-.',color='red')\n",
    "plt.bar(x[mask1], y[mask1], color = 'red')\n",
    "plt.bar(x[mask2], y[mask2], color = 'lime')\n",
    "plt.xlabel(\"Students\")\n",
    "plt.ylabel(\"Score\")\n",
    "\n",
    "plt.gca().legend(('score=35','score<35'))\n",
    "\n",
    "plt.show()\n",
    "print(\"student having marks below 35\",len(x[mask1]))\n",
    "print(\"student having marks above 35\",len(x[mask2]))"
   ]
  },
  {
   "cell_type": "code",
   "execution_count": null,
   "metadata": {},
   "outputs": [],
   "source": []
  }
 ],
 "metadata": {
  "kernelspec": {
   "display_name": "Python 3",
   "language": "python",
   "name": "python3"
  },
  "language_info": {
   "codemirror_mode": {
    "name": "ipython",
    "version": 3
   },
   "file_extension": ".py",
   "mimetype": "text/x-python",
   "name": "python",
   "nbconvert_exporter": "python",
   "pygments_lexer": "ipython3",
   "version": "3.7.3"
  }
 },
 "nbformat": 4,
 "nbformat_minor": 2
}
