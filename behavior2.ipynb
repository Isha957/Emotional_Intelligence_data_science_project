{
 "cells": [
  {
   "cell_type": "code",
   "execution_count": null,
   "metadata": {},
   "outputs": [],
   "source": [
    "# few things to remember while working on this i have used a separate data set which i have made separately from previous code\n",
    "# so while working on this keep in mind to set your data set"
   ]
  },
  {
   "cell_type": "code",
   "execution_count": 1,
   "metadata": {},
   "outputs": [
    {
     "data": {
      "text/html": [
       "<div>\n",
       "<style scoped>\n",
       "    .dataframe tbody tr th:only-of-type {\n",
       "        vertical-align: middle;\n",
       "    }\n",
       "\n",
       "    .dataframe tbody tr th {\n",
       "        vertical-align: top;\n",
       "    }\n",
       "\n",
       "    .dataframe thead th {\n",
       "        text-align: right;\n",
       "    }\n",
       "</style>\n",
       "<table border=\"1\" class=\"dataframe\">\n",
       "  <thead>\n",
       "    <tr style=\"text-align: right;\">\n",
       "      <th></th>\n",
       "      <th>user</th>\n",
       "      <th>Email address</th>\n",
       "      <th>1</th>\n",
       "      <th>2</th>\n",
       "      <th>3</th>\n",
       "      <th>4</th>\n",
       "      <th>5</th>\n",
       "      <th>6</th>\n",
       "      <th>7</th>\n",
       "      <th>8</th>\n",
       "      <th>...</th>\n",
       "      <th>46</th>\n",
       "      <th>47</th>\n",
       "      <th>48</th>\n",
       "      <th>49</th>\n",
       "      <th>50</th>\n",
       "      <th>self</th>\n",
       "      <th>emotions</th>\n",
       "      <th>motivating</th>\n",
       "      <th>Empathy</th>\n",
       "      <th>social</th>\n",
       "    </tr>\n",
       "  </thead>\n",
       "  <tbody>\n",
       "    <tr>\n",
       "      <th>0</th>\n",
       "      <td>19241A0101</td>\n",
       "      <td>ruhaillone007@gmail.com</td>\n",
       "      <td>1</td>\n",
       "      <td>1</td>\n",
       "      <td>1</td>\n",
       "      <td>1</td>\n",
       "      <td>1</td>\n",
       "      <td>1</td>\n",
       "      <td>4</td>\n",
       "      <td>1</td>\n",
       "      <td>...</td>\n",
       "      <td>5</td>\n",
       "      <td>1</td>\n",
       "      <td>1</td>\n",
       "      <td>1</td>\n",
       "      <td>1</td>\n",
       "      <td>18</td>\n",
       "      <td>16</td>\n",
       "      <td>12</td>\n",
       "      <td>13</td>\n",
       "      <td>17</td>\n",
       "    </tr>\n",
       "    <tr>\n",
       "      <th>1</th>\n",
       "      <td>19241A0102</td>\n",
       "      <td>asaiteja883@gmail.com</td>\n",
       "      <td>1</td>\n",
       "      <td>4</td>\n",
       "      <td>5</td>\n",
       "      <td>3</td>\n",
       "      <td>4</td>\n",
       "      <td>5</td>\n",
       "      <td>5</td>\n",
       "      <td>4</td>\n",
       "      <td>...</td>\n",
       "      <td>4</td>\n",
       "      <td>4</td>\n",
       "      <td>4</td>\n",
       "      <td>4</td>\n",
       "      <td>5</td>\n",
       "      <td>37</td>\n",
       "      <td>37</td>\n",
       "      <td>33</td>\n",
       "      <td>38</td>\n",
       "      <td>43</td>\n",
       "    </tr>\n",
       "    <tr>\n",
       "      <th>2</th>\n",
       "      <td>19241A0103</td>\n",
       "      <td>barishettyshiva@gmail.com</td>\n",
       "      <td>4</td>\n",
       "      <td>4</td>\n",
       "      <td>4</td>\n",
       "      <td>4</td>\n",
       "      <td>4</td>\n",
       "      <td>5</td>\n",
       "      <td>3</td>\n",
       "      <td>4</td>\n",
       "      <td>...</td>\n",
       "      <td>5</td>\n",
       "      <td>3</td>\n",
       "      <td>4</td>\n",
       "      <td>4</td>\n",
       "      <td>4</td>\n",
       "      <td>44</td>\n",
       "      <td>33</td>\n",
       "      <td>37</td>\n",
       "      <td>40</td>\n",
       "      <td>40</td>\n",
       "    </tr>\n",
       "    <tr>\n",
       "      <th>3</th>\n",
       "      <td>19241A0104</td>\n",
       "      <td>varuntej.1704@gmail.com</td>\n",
       "      <td>3</td>\n",
       "      <td>5</td>\n",
       "      <td>5</td>\n",
       "      <td>5</td>\n",
       "      <td>4</td>\n",
       "      <td>5</td>\n",
       "      <td>4</td>\n",
       "      <td>5</td>\n",
       "      <td>...</td>\n",
       "      <td>5</td>\n",
       "      <td>3</td>\n",
       "      <td>4</td>\n",
       "      <td>5</td>\n",
       "      <td>5</td>\n",
       "      <td>32</td>\n",
       "      <td>31</td>\n",
       "      <td>37</td>\n",
       "      <td>41</td>\n",
       "      <td>38</td>\n",
       "    </tr>\n",
       "    <tr>\n",
       "      <th>4</th>\n",
       "      <td>19241A0105</td>\n",
       "      <td>vamshinayak460@gmail.com</td>\n",
       "      <td>4</td>\n",
       "      <td>4</td>\n",
       "      <td>4</td>\n",
       "      <td>4</td>\n",
       "      <td>3</td>\n",
       "      <td>4</td>\n",
       "      <td>5</td>\n",
       "      <td>4</td>\n",
       "      <td>...</td>\n",
       "      <td>4</td>\n",
       "      <td>4</td>\n",
       "      <td>4</td>\n",
       "      <td>4</td>\n",
       "      <td>4</td>\n",
       "      <td>37</td>\n",
       "      <td>36</td>\n",
       "      <td>33</td>\n",
       "      <td>48</td>\n",
       "      <td>41</td>\n",
       "    </tr>\n",
       "  </tbody>\n",
       "</table>\n",
       "<p>5 rows × 57 columns</p>\n",
       "</div>"
      ],
      "text/plain": [
       "          user              Email address  1  2  3  4  5  6  7  8  ...  46  \\\n",
       "0  19241A0101     ruhaillone007@gmail.com  1  1  1  1  1  1  4  1  ...   5   \n",
       "1   19241A0102      asaiteja883@gmail.com  1  4  5  3  4  5  5  4  ...   4   \n",
       "2  19241A0103   barishettyshiva@gmail.com  4  4  4  4  4  5  3  4  ...   5   \n",
       "3  19241A0104     varuntej.1704@gmail.com  3  5  5  5  4  5  4  5  ...   5   \n",
       "4  19241A0105    vamshinayak460@gmail.com  4  4  4  4  3  4  5  4  ...   4   \n",
       "\n",
       "   47  48  49  50  self  emotions  motivating  Empathy  social  \n",
       "0   1   1   1   1    18        16          12       13      17  \n",
       "1   4   4   4   5    37        37          33       38      43  \n",
       "2   3   4   4   4    44        33          37       40      40  \n",
       "3   3   4   5   5    32        31          37       41      38  \n",
       "4   4   4   4   4    37        36          33       48      41  \n",
       "\n",
       "[5 rows x 57 columns]"
      ]
     },
     "execution_count": 1,
     "metadata": {},
     "output_type": "execute_result"
    }
   ],
   "source": [
    "import pandas as pd\n",
    "data=pd.read_csv(r'C:\\Users\\Prashant\\Desktop\\collegedata\\collg.csv')\n",
    "data.head()"
   ]
  },
  {
   "cell_type": "code",
   "execution_count": 2,
   "metadata": {},
   "outputs": [],
   "source": [
    "\n",
    "disct = {'user':data['user'],'self':data['self'],'emotions':data['emotions'],'motivating':data['motivating'],'Empathy':data['Empathy'],'social':data['social']}"
   ]
  },
  {
   "cell_type": "code",
   "execution_count": 3,
   "metadata": {},
   "outputs": [],
   "source": [
    "features=pd.DataFrame(disct)"
   ]
  },
  {
   "cell_type": "code",
   "execution_count": 4,
   "metadata": {},
   "outputs": [
    {
     "data": {
      "text/html": [
       "<div>\n",
       "<style scoped>\n",
       "    .dataframe tbody tr th:only-of-type {\n",
       "        vertical-align: middle;\n",
       "    }\n",
       "\n",
       "    .dataframe tbody tr th {\n",
       "        vertical-align: top;\n",
       "    }\n",
       "\n",
       "    .dataframe thead th {\n",
       "        text-align: right;\n",
       "    }\n",
       "</style>\n",
       "<table border=\"1\" class=\"dataframe\">\n",
       "  <thead>\n",
       "    <tr style=\"text-align: right;\">\n",
       "      <th></th>\n",
       "      <th>user</th>\n",
       "      <th>self</th>\n",
       "      <th>emotions</th>\n",
       "      <th>motivating</th>\n",
       "      <th>Empathy</th>\n",
       "      <th>social</th>\n",
       "    </tr>\n",
       "  </thead>\n",
       "  <tbody>\n",
       "    <tr>\n",
       "      <th>0</th>\n",
       "      <td>19241A0101</td>\n",
       "      <td>18</td>\n",
       "      <td>16</td>\n",
       "      <td>12</td>\n",
       "      <td>13</td>\n",
       "      <td>17</td>\n",
       "    </tr>\n",
       "    <tr>\n",
       "      <th>1</th>\n",
       "      <td>19241A0102</td>\n",
       "      <td>37</td>\n",
       "      <td>37</td>\n",
       "      <td>33</td>\n",
       "      <td>38</td>\n",
       "      <td>43</td>\n",
       "    </tr>\n",
       "    <tr>\n",
       "      <th>2</th>\n",
       "      <td>19241A0103</td>\n",
       "      <td>44</td>\n",
       "      <td>33</td>\n",
       "      <td>37</td>\n",
       "      <td>40</td>\n",
       "      <td>40</td>\n",
       "    </tr>\n",
       "    <tr>\n",
       "      <th>3</th>\n",
       "      <td>19241A0104</td>\n",
       "      <td>32</td>\n",
       "      <td>31</td>\n",
       "      <td>37</td>\n",
       "      <td>41</td>\n",
       "      <td>38</td>\n",
       "    </tr>\n",
       "    <tr>\n",
       "      <th>4</th>\n",
       "      <td>19241A0105</td>\n",
       "      <td>37</td>\n",
       "      <td>36</td>\n",
       "      <td>33</td>\n",
       "      <td>48</td>\n",
       "      <td>41</td>\n",
       "    </tr>\n",
       "  </tbody>\n",
       "</table>\n",
       "</div>"
      ],
      "text/plain": [
       "          user  self  emotions  motivating  Empathy  social\n",
       "0  19241A0101     18        16          12       13      17\n",
       "1   19241A0102    37        37          33       38      43\n",
       "2  19241A0103     44        33          37       40      40\n",
       "3  19241A0104     32        31          37       41      38\n",
       "4  19241A0105     37        36          33       48      41"
      ]
     },
     "execution_count": 4,
     "metadata": {},
     "output_type": "execute_result"
    }
   ],
   "source": [
    "features.head()"
   ]
  },
  {
   "cell_type": "code",
   "execution_count": 5,
   "metadata": {},
   "outputs": [],
   "source": [
    "import matplotlib.pyplot as plt"
   ]
  },
  {
   "cell_type": "code",
   "execution_count": 6,
   "metadata": {},
   "outputs": [],
   "source": [
    "import seaborn as sns\n",
    "import numpy as np\n",
    "\n"
   ]
  },
  {
   "cell_type": "code",
   "execution_count": 7,
   "metadata": {},
   "outputs": [
    {
     "data": {
      "text/plain": [
       "Text(0.5, 1.0, 'CIVIL-A')"
      ]
     },
     "execution_count": 7,
     "metadata": {},
     "output_type": "execute_result"
    },
    {
     "data": {
      "image/png": "[encoded data removed]",
      "text/plain": [
       "<Figure size 432x288 with 1 Axes>"
      ]
     },
     "metadata": {},
     "output_type": "display_data"
    }
   ],
   "source": [
    "values=[10,40]\n",
    "labels=[\"SelfAwareness Problem\",\"Normal students\"]\n",
    "explode=[0.2,0]\n",
    "color=['red','lime']\n",
    "plt.pie(values,labels=labels,autopct='%2f',explode=explode,colors=color)\n",
    "plt.title(\"CIVIL-A\")"
   ]
  },
  {
   "cell_type": "code",
   "execution_count": 8,
   "metadata": {},
   "outputs": [
    {
     "data": {
      "image/png": "[encoded data removed]",
      "text/plain": [
       "<Figure size 1080x288 with 1 Axes>"
      ]
     },
     "metadata": {
      "needs_background": "light"
     },
     "output_type": "display_data"
    }
   ],
   "source": [
    "# plt.figure(figsize=(15,8))\n",
    "# plt.xticks(rotation=70)\n",
    "\n",
    "\n",
    "me= pd.DataFrame(features['self'], columns=['self'])\n",
    "\n",
    "\n",
    "x = features['user']\n",
    "y = me['self'].sort_values()\n",
    "\n",
    "mask1 = y < 35\n",
    "mask2 = y > 35\n",
    "\n",
    "fig = plt.figure()\n",
    "plt.xticks(rotation=90)\n",
    "fig.set_figheight(4)\n",
    "fig.set_figwidth(15)\n",
    "plt.axhline(y=35,linewidth=1,ls='-.')\n",
    "\n",
    "\n",
    "plt.bar(x[mask1], y[mask1], color = 'red')\n",
    "\n",
    "plt.bar(x[mask2], y[mask2], color = 'lime')\n",
    "plt.title('SelfAwareness')\n",
    "plt.gca().legend(('score=35','score<35'))\n",
    "plt.xlabel('Students')\n",
    "plt.ylabel('Score')\n",
    "plt.show()\n",
    "\n",
    "\n",
    "\n",
    "\n",
    "# sns.barplot(x=features['user'],y=features['self'])\n"
   ]
  },
  {
   "cell_type": "markdown",
   "metadata": {},
   "source": [
    "## social weakness"
   ]
  },
  {
   "cell_type": "code",
   "execution_count": 9,
   "metadata": {},
   "outputs": [
    {
     "data": {
      "text/plain": [
       "Text(0.5, 1.0, 'CIVIL-A')"
      ]
     },
     "execution_count": 9,
     "metadata": {},
     "output_type": "execute_result"
    },
    {
     "data": {
      "image/png": "[encoded data removed]",
      "text/plain": [
       "<Figure size 432x288 with 1 Axes>"
      ]
     },
     "metadata": {},
     "output_type": "display_data"
    }
   ],
   "source": [
    "values=[12,38]\n",
    "labels=[\"Socialweakness\",\"Normal students\"]\n",
    "explode=[0.2,0]\n",
    "color=['red','lime']\n",
    "plt.pie(values,labels=labels,autopct='%2f',explode=explode,colors=color)\n",
    "plt.title(\"CIVIL-A\")"
   ]
  },
  {
   "cell_type": "code",
   "execution_count": 10,
   "metadata": {},
   "outputs": [
    {
     "data": {
      "image/png": "[encoded data removed]",
      "text/plain": [
       "<Figure size 1080x288 with 1 Axes>"
      ]
     },
     "metadata": {
      "needs_background": "light"
     },
     "output_type": "display_data"
    }
   ],
   "source": [
    "import numpy as np\n",
    "import matplotlib.pyplot as plt\n",
    "%matplotlib inline\n",
    "\n",
    "sk = pd.DataFrame(features['social'], columns=['social'])\n",
    "#newdata.index = np.arange(1, len(newdata) + 1)\n",
    "x = features['user']\n",
    "y = sk['social'].sort_values()\n",
    "\n",
    "mask1 = y < 35\n",
    "mask2 = y > 35\n",
    "fig = plt.figure()\n",
    "fig.set_figheight(4)\n",
    "fig.set_figwidth(15)\n",
    "plt.xticks(rotation=90)\n",
    "plt.axhline(y=35,linewidth=1,ls='-.')\n",
    "plt.bar(x[mask1], y[mask1], color = 'red')\n",
    "plt.bar(x[mask2], y[mask2], color = 'lime')\n",
    "\n",
    "plt.gca().legend(('score=35','score<35'))\n",
    "plt.xlabel('students')\n",
    "plt.ylabel('Score')\n",
    "plt.title('BAR-GRAPH FOR SOCIAL WEAKNESS')\n",
    "plt.show()\n"
   ]
  },
  {
   "cell_type": "markdown",
   "metadata": {},
   "source": [
    "# Empathy"
   ]
  },
  {
   "cell_type": "code",
   "execution_count": 11,
   "metadata": {},
   "outputs": [
    {
     "data": {
      "text/plain": [
       "Text(0.5, 1.0, 'CIVIL-A')"
      ]
     },
     "execution_count": 11,
     "metadata": {},
     "output_type": "execute_result"
    },
    {
     "data": {
      "image/png": "[encoded data removed]",
      "text/plain": [
       "<Figure size 432x288 with 1 Axes>"
      ]
     },
     "metadata": {},
     "output_type": "display_data"
    }
   ],
   "source": [
    "values=[11,39]\n",
    "labels=[\"Low Empathy\",\"Normal students\"]\n",
    "explode=[0.2,0]\n",
    "color=['red','lime']\n",
    "plt.pie(values,labels=labels,autopct='%2f',explode=explode,colors=color)\n",
    "plt.title(\"CIVIL-A\")"
   ]
  },
  {
   "cell_type": "code",
   "execution_count": 12,
   "metadata": {},
   "outputs": [
    {
     "data": {
      "text/html": [
       "<div>\n",
       "<style scoped>\n",
       "    .dataframe tbody tr th:only-of-type {\n",
       "        vertical-align: middle;\n",
       "    }\n",
       "\n",
       "    .dataframe tbody tr th {\n",
       "        vertical-align: top;\n",
       "    }\n",
       "\n",
       "    .dataframe thead th {\n",
       "        text-align: right;\n",
       "    }\n",
       "</style>\n",
       "<table border=\"1\" class=\"dataframe\">\n",
       "  <thead>\n",
       "    <tr style=\"text-align: right;\">\n",
       "      <th></th>\n",
       "      <th>user</th>\n",
       "      <th>self</th>\n",
       "      <th>emotions</th>\n",
       "      <th>motivating</th>\n",
       "      <th>Empathy</th>\n",
       "      <th>social</th>\n",
       "    </tr>\n",
       "  </thead>\n",
       "  <tbody>\n",
       "    <tr>\n",
       "      <th>0</th>\n",
       "      <td>19241A0101</td>\n",
       "      <td>18</td>\n",
       "      <td>16</td>\n",
       "      <td>12</td>\n",
       "      <td>13</td>\n",
       "      <td>17</td>\n",
       "    </tr>\n",
       "    <tr>\n",
       "      <th>1</th>\n",
       "      <td>19241A0102</td>\n",
       "      <td>37</td>\n",
       "      <td>37</td>\n",
       "      <td>33</td>\n",
       "      <td>38</td>\n",
       "      <td>43</td>\n",
       "    </tr>\n",
       "    <tr>\n",
       "      <th>2</th>\n",
       "      <td>19241A0103</td>\n",
       "      <td>44</td>\n",
       "      <td>33</td>\n",
       "      <td>37</td>\n",
       "      <td>40</td>\n",
       "      <td>40</td>\n",
       "    </tr>\n",
       "    <tr>\n",
       "      <th>3</th>\n",
       "      <td>19241A0104</td>\n",
       "      <td>32</td>\n",
       "      <td>31</td>\n",
       "      <td>37</td>\n",
       "      <td>41</td>\n",
       "      <td>38</td>\n",
       "    </tr>\n",
       "    <tr>\n",
       "      <th>4</th>\n",
       "      <td>19241A0105</td>\n",
       "      <td>37</td>\n",
       "      <td>36</td>\n",
       "      <td>33</td>\n",
       "      <td>48</td>\n",
       "      <td>41</td>\n",
       "    </tr>\n",
       "  </tbody>\n",
       "</table>\n",
       "</div>"
      ],
      "text/plain": [
       "          user  self  emotions  motivating  Empathy  social\n",
       "0  19241A0101     18        16          12       13      17\n",
       "1   19241A0102    37        37          33       38      43\n",
       "2  19241A0103     44        33          37       40      40\n",
       "3  19241A0104     32        31          37       41      38\n",
       "4  19241A0105     37        36          33       48      41"
      ]
     },
     "execution_count": 12,
     "metadata": {},
     "output_type": "execute_result"
    }
   ],
   "source": [
    "features.head()"
   ]
  },
  {
   "cell_type": "code",
   "execution_count": 13,
   "metadata": {},
   "outputs": [
    {
     "data": {
      "image/png": "[encoded data removed]",
      "text/plain": [
       "<Figure size 1080x288 with 1 Axes>"
      ]
     },
     "metadata": {
      "needs_background": "light"
     },
     "output_type": "display_data"
    }
   ],
   "source": [
    "import numpy as np\n",
    "import matplotlib.pyplot as plt\n",
    "\n",
    "dict = {'Empathy':features['Empathy']}\n",
    "empathy = pd.DataFrame(dict)\n",
    "x = features['user']\n",
    "y = empathy['Empathy'].sort_values()\n",
    "fig = plt.figure()\n",
    "fig.set_figheight(4)\n",
    "fig.set_figwidth(15)\n",
    "mask1 = y < 35\n",
    "mask2 = y > 35\n",
    "plt.xticks(rotation=90)\n",
    "plt.axhline(y=35,linewidth=1,ls='-.',color='red')\n",
    "plt.bar(x[mask1], y[mask1], color = 'red')\n",
    "plt.bar(x[mask2], y[mask2], color = 'lime')\n",
    "plt.xlabel(\"Students\")\n",
    "plt.ylabel(\"Score\")\n",
    "\n",
    "plt.gca().legend(('score=35','score<35'))\n",
    "\n",
    "plt.show()\n",
    "  \n",
    "    "
   ]
  },
  {
   "cell_type": "markdown",
   "metadata": {},
   "source": [
    "# motivating one self"
   ]
  },
  {
   "cell_type": "code",
   "execution_count": 14,
   "metadata": {},
   "outputs": [
    {
     "data": {
      "text/plain": [
       "Text(0.5, 1.0, 'CIVIL-A')"
      ]
     },
     "execution_count": 14,
     "metadata": {},
     "output_type": "execute_result"
    },
    {
     "data": {
      "image/png": "[encoded data removed]",
      "text/plain": [
       "<Figure size 432x288 with 1 Axes>"
      ]
     },
     "metadata": {},
     "output_type": "display_data"
    }
   ],
   "source": [
    "values=[26,21]\n",
    "color=['red','lime']\n",
    "labels=[\"MotivatingOneself Problem\",\"Normal students\"]\n",
    "explode=[0.1,0]\n",
    "plt.pie(values,labels=labels,autopct='%2f',explode=explode,colors=color)\n",
    "plt.title(\"CIVIL-A\")"
   ]
  },
  {
   "cell_type": "code",
   "execution_count": 15,
   "metadata": {},
   "outputs": [
    {
     "data": {
      "image/png": "[encoded data removed]",
      "text/plain": [
       "<Figure size 1080x288 with 1 Axes>"
      ]
     },
     "metadata": {
      "needs_background": "light"
     },
     "output_type": "display_data"
    }
   ],
   "source": [
    "# motivating_one_self\n",
    "\n",
    "import numpy as np\n",
    "import matplotlib.pyplot as plt\n",
    "%matplotlib inline\n",
    "motivating={'motivating':features['motivating']}\n",
    "ms = pd.DataFrame(motivating)\n",
    "\n",
    "x = features['user']\n",
    "y = ms['motivating'].sort_values()\n",
    "\n",
    "mask1 = y < 35\n",
    "mask2 = y > 35\n",
    "fig = plt.figure()\n",
    "fig.set_figheight(4)\n",
    "fig.set_figwidth(15)\n",
    "plt.xticks(rotation=90)\n",
    "plt.axhline(y=35,linewidth=1,ls='-.')\n",
    "plt.bar(x[mask1], y[mask1], color = 'red')\n",
    "plt.bar(x[mask2], y[mask2], color = 'lime')\n",
    "\n",
    "plt.gca().legend(('score<35','score>35'))\n",
    "plt.xlabel('Students')\n",
    "plt.ylabel('Score')\n",
    "plt.show()\n"
   ]
  },
  {
   "cell_type": "code",
   "execution_count": 16,
   "metadata": {},
   "outputs": [
    {
     "data": {
      "text/html": [
       "<div>\n",
       "<style scoped>\n",
       "    .dataframe tbody tr th:only-of-type {\n",
       "        vertical-align: middle;\n",
       "    }\n",
       "\n",
       "    .dataframe tbody tr th {\n",
       "        vertical-align: top;\n",
       "    }\n",
       "\n",
       "    .dataframe thead th {\n",
       "        text-align: right;\n",
       "    }\n",
       "</style>\n",
       "<table border=\"1\" class=\"dataframe\">\n",
       "  <thead>\n",
       "    <tr style=\"text-align: right;\">\n",
       "      <th></th>\n",
       "      <th>user</th>\n",
       "      <th>self</th>\n",
       "      <th>emotions</th>\n",
       "      <th>motivating</th>\n",
       "      <th>Empathy</th>\n",
       "      <th>social</th>\n",
       "    </tr>\n",
       "  </thead>\n",
       "  <tbody>\n",
       "    <tr>\n",
       "      <th>0</th>\n",
       "      <td>19241A0101</td>\n",
       "      <td>18</td>\n",
       "      <td>16</td>\n",
       "      <td>12</td>\n",
       "      <td>13</td>\n",
       "      <td>17</td>\n",
       "    </tr>\n",
       "    <tr>\n",
       "      <th>1</th>\n",
       "      <td>19241A0102</td>\n",
       "      <td>37</td>\n",
       "      <td>37</td>\n",
       "      <td>33</td>\n",
       "      <td>38</td>\n",
       "      <td>43</td>\n",
       "    </tr>\n",
       "    <tr>\n",
       "      <th>2</th>\n",
       "      <td>19241A0103</td>\n",
       "      <td>44</td>\n",
       "      <td>33</td>\n",
       "      <td>37</td>\n",
       "      <td>40</td>\n",
       "      <td>40</td>\n",
       "    </tr>\n",
       "    <tr>\n",
       "      <th>3</th>\n",
       "      <td>19241A0104</td>\n",
       "      <td>32</td>\n",
       "      <td>31</td>\n",
       "      <td>37</td>\n",
       "      <td>41</td>\n",
       "      <td>38</td>\n",
       "    </tr>\n",
       "    <tr>\n",
       "      <th>4</th>\n",
       "      <td>19241A0105</td>\n",
       "      <td>37</td>\n",
       "      <td>36</td>\n",
       "      <td>33</td>\n",
       "      <td>48</td>\n",
       "      <td>41</td>\n",
       "    </tr>\n",
       "  </tbody>\n",
       "</table>\n",
       "</div>"
      ],
      "text/plain": [
       "          user  self  emotions  motivating  Empathy  social\n",
       "0  19241A0101     18        16          12       13      17\n",
       "1   19241A0102    37        37          33       38      43\n",
       "2  19241A0103     44        33          37       40      40\n",
       "3  19241A0104     32        31          37       41      38\n",
       "4  19241A0105     37        36          33       48      41"
      ]
     },
     "execution_count": 16,
     "metadata": {},
     "output_type": "execute_result"
    }
   ],
   "source": [
    "features.head()"
   ]
  },
  {
   "cell_type": "markdown",
   "metadata": {},
   "source": [
    "# Mangaing Emotions"
   ]
  },
  {
   "cell_type": "code",
   "execution_count": 47,
   "metadata": {},
   "outputs": [
    {
     "data": {
      "text/plain": [
       "Text(0.5, 1.0, 'civil-A')"
      ]
     },
     "execution_count": 47,
     "metadata": {},
     "output_type": "execute_result"
    },
    {
     "data": {
      "image/png": "[encoded data removed]",
      "text/plain": [
       "<Figure size 432x288 with 1 Axes>"
      ]
     },
     "metadata": {},
     "output_type": "display_data"
    }
   ],
   "source": [
    "values=[20,26]\n",
    "color=['red','lime']\n",
    "labels=['Problem in Managing Emotions','Noraml Students']\n",
    "plt.pie(values,labels=labels,autopct='%2f',explode=explode,colors=color)\n",
    "plt.title('civil-A')"
   ]
  },
  {
   "cell_type": "code",
   "execution_count": 17,
   "metadata": {},
   "outputs": [],
   "source": [
    "managing_emotions = {'emotions':features['emotions']}\n",
    "me= pd.DataFrame(managing_emotions)"
   ]
  },
  {
   "cell_type": "code",
   "execution_count": 42,
   "metadata": {},
   "outputs": [
    {
     "name": "stdout",
     "output_type": "stream",
     "text": [
      "Students Below 35 score= 20\n",
      "students above 35 score= 26\n"
     ]
    },
    {
     "data": {
      "text/plain": [
       "Text(0, 0.5, 'scores')"
      ]
     },
     "execution_count": 42,
     "metadata": {},
     "output_type": "execute_result"
    },
    {
     "data": {
      "image/png": "[encoded data removed]",
      "text/plain": [
       "<Figure size 1080x288 with 1 Axes>"
      ]
     },
     "metadata": {
      "needs_background": "light"
     },
     "output_type": "display_data"
    }
   ],
   "source": [
    "import matplotlib.pyplot as plt\n",
    "x=features['user']\n",
    "y = me['emotions'].sort_values()\n",
    "mask1=y <35\n",
    "mask2=y>35\n",
    "fig = plt.figure()\n",
    "fig.set_figheight(4)\n",
    "fig.set_figwidth(15)\n",
    "plt.xticks(rotation=90)\n",
    "os=len(x[mask1])\n",
    "bk = len(x[mask2])\n",
    "print(\"Students Below 35 score=\",os)\n",
    "print(\"students above 35 score=\",bk)\n",
    "\n",
    "plt.axhline(y=35,linewidth=1,ls='-.')\n",
    "plt.bar(x[mask1], y[mask1], color = 'red')\n",
    "plt.bar(x[mask2], y[mask2], color = 'lime')\n",
    "plt.gca().legend(('score=35','score<35'))\n",
    "plt.xlabel('Students')\n",
    "plt.ylabel('scores')\n"
   ]
  },
  {
   "cell_type": "code",
   "execution_count": 48,
   "metadata": {},
   "outputs": [
    {
     "data": {
      "text/html": [
       "<div>\n",
       "<style scoped>\n",
       "    .dataframe tbody tr th:only-of-type {\n",
       "        vertical-align: middle;\n",
       "    }\n",
       "\n",
       "    .dataframe tbody tr th {\n",
       "        vertical-align: top;\n",
       "    }\n",
       "\n",
       "    .dataframe thead th {\n",
       "        text-align: right;\n",
       "    }\n",
       "</style>\n",
       "<table border=\"1\" class=\"dataframe\">\n",
       "  <thead>\n",
       "    <tr style=\"text-align: right;\">\n",
       "      <th></th>\n",
       "      <th>user</th>\n",
       "      <th>self</th>\n",
       "      <th>emotions</th>\n",
       "      <th>motivating</th>\n",
       "      <th>Empathy</th>\n",
       "      <th>social</th>\n",
       "    </tr>\n",
       "  </thead>\n",
       "  <tbody>\n",
       "    <tr>\n",
       "      <th>0</th>\n",
       "      <td>19241A0101</td>\n",
       "      <td>18</td>\n",
       "      <td>16</td>\n",
       "      <td>12</td>\n",
       "      <td>13</td>\n",
       "      <td>17</td>\n",
       "    </tr>\n",
       "    <tr>\n",
       "      <th>1</th>\n",
       "      <td>19241A0102</td>\n",
       "      <td>37</td>\n",
       "      <td>37</td>\n",
       "      <td>33</td>\n",
       "      <td>38</td>\n",
       "      <td>43</td>\n",
       "    </tr>\n",
       "    <tr>\n",
       "      <th>2</th>\n",
       "      <td>19241A0103</td>\n",
       "      <td>44</td>\n",
       "      <td>33</td>\n",
       "      <td>37</td>\n",
       "      <td>40</td>\n",
       "      <td>40</td>\n",
       "    </tr>\n",
       "    <tr>\n",
       "      <th>3</th>\n",
       "      <td>19241A0104</td>\n",
       "      <td>32</td>\n",
       "      <td>31</td>\n",
       "      <td>37</td>\n",
       "      <td>41</td>\n",
       "      <td>38</td>\n",
       "    </tr>\n",
       "    <tr>\n",
       "      <th>4</th>\n",
       "      <td>19241A0105</td>\n",
       "      <td>37</td>\n",
       "      <td>36</td>\n",
       "      <td>33</td>\n",
       "      <td>48</td>\n",
       "      <td>41</td>\n",
       "    </tr>\n",
       "  </tbody>\n",
       "</table>\n",
       "</div>"
      ],
      "text/plain": [
       "          user  self  emotions  motivating  Empathy  social\n",
       "0  19241A0101     18        16          12       13      17\n",
       "1   19241A0102    37        37          33       38      43\n",
       "2  19241A0103     44        33          37       40      40\n",
       "3  19241A0104     32        31          37       41      38\n",
       "4  19241A0105     37        36          33       48      41"
      ]
     },
     "execution_count": 48,
     "metadata": {},
     "output_type": "execute_result"
    }
   ],
   "source": [
    "features.head()"
   ]
  },
  {
   "cell_type": "code",
   "execution_count": 97,
   "metadata": {},
   "outputs": [
    {
     "data": {
      "text/plain": [
       "Text(0.5, 1.0, '19241A0101')"
      ]
     },
     "execution_count": 97,
     "metadata": {},
     "output_type": "execute_result"
    },
    {
     "data": {
      "image/png": "[encoded data removed]",
      "text/plain": [
       "<Figure size 432x288 with 1 Axes>"
      ]
     },
     "metadata": {},
     "output_type": "display_data"
    }
   ],
   "source": [
    "\n",
    "disct = {'self':data['self'],'emotions':data['emotions'],'motivating':data['motivating'],'Empathy':data['Empathy'],'social':data['social']}\n",
    "users = pd.DataFrame(disct)\n",
    "\n",
    "values=users.iloc[0]\n",
    "color=['red']\n",
    "explode=[0.1,0.1,0.1,0.1,0.1]\n",
    "labels=['Self','Emotions','motivating','Empathy','Social']\n",
    "\n",
    "plt.pie(values,labels=labels,autopct='%2f',colors=color,explode=explode)\n",
    "plt.title('19241A0101')\n"
   ]
  },
  {
   "cell_type": "code",
   "execution_count": null,
   "metadata": {},
   "outputs": [],
   "source": []
  },
  {
   "cell_type": "code",
   "execution_count": null,
   "metadata": {},
   "outputs": [],
   "source": []
  }
 ],
 "metadata": {
  "kernelspec": {
   "display_name": "Python 3",
   "language": "python",
   "name": "python3"
  },
  "language_info": {
   "codemirror_mode": {
    "name": "ipython",
    "version": 3
   },
   "file_extension": ".py",
   "mimetype": "text/x-python",
   "name": "python",
   "nbconvert_exporter": "python",
   "pygments_lexer": "ipython3",
   "version": "3.7.3"
  }
 },
 "nbformat": 4,
 "nbformat_minor": 2
}
