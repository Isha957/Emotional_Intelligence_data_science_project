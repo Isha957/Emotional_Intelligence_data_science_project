{
 "cells": [
  {
   "cell_type": "code",
   "execution_count": 1,
   "metadata": {},
   "outputs": [],
   "source": [
    "import pandas as pd"
   ]
  },
  {
   "cell_type": "code",
   "execution_count": 4,
   "metadata": {},
   "outputs": [],
   "source": [
    "eceA=pd.read_csv(r'C:\\Users\\Prashant\\Desktop\\collegedata\\ecedata\\ece-C.csv')"
   ]
  },
  {
   "cell_type": "code",
   "execution_count": 5,
   "metadata": {},
   "outputs": [],
   "source": [
    "eceA['user'] = eceA['user'].str.split(' ').str[0] # this will remove that extra roll no"
   ]
  },
  {
   "cell_type": "code",
   "execution_count": 6,
   "metadata": {},
   "outputs": [],
   "source": [
    "eceA['Self']=eceA['1']+eceA['6']+eceA['11']+eceA['21']+eceA['26']+eceA['28']+eceA['31']+eceA['36']+eceA['41']+eceA['46']"
   ]
  },
  {
   "cell_type": "code",
   "execution_count": 7,
   "metadata": {},
   "outputs": [],
   "source": [
    "eceA['Emotions'] = eceA['2']+ eceA['7']+eceA['12']+eceA['17']+eceA['22']+eceA['27']+eceA['32']+eceA['37']+eceA['42']+eceA['47']"
   ]
  },
  {
   "cell_type": "code",
   "execution_count": 8,
   "metadata": {},
   "outputs": [],
   "source": [
    "eceA['motivating']=eceA['3']+eceA['8']+eceA['18']+eceA['13']+eceA['23']+eceA['28']+eceA['33']+eceA['38']+eceA['43']+eceA['48']"
   ]
  },
  {
   "cell_type": "code",
   "execution_count": 9,
   "metadata": {},
   "outputs": [],
   "source": [
    "eceA['Empathy']=eceA['4']+eceA['9']+eceA['14']+eceA['19']+eceA['24']+eceA['29']+eceA['34']+eceA['39']+eceA['44']+eceA['49']"
   ]
  },
  {
   "cell_type": "code",
   "execution_count": 10,
   "metadata": {},
   "outputs": [],
   "source": [
    "eceA['social']=eceA['5']+eceA['10']+eceA['15']+eceA['20']+eceA['25']+eceA['30']+eceA['35']+eceA['40']+eceA['45']+eceA['50']"
   ]
  },
  {
   "cell_type": "code",
   "execution_count": 11,
   "metadata": {},
   "outputs": [],
   "source": [
    "newdata = pd.DataFrame(eceA)"
   ]
  },
  {
   "cell_type": "code",
   "execution_count": 14,
   "metadata": {},
   "outputs": [
    {
     "data": {
      "text/html": [
       "<div>\n",
       "<style scoped>\n",
       "    .dataframe tbody tr th:only-of-type {\n",
       "        vertical-align: middle;\n",
       "    }\n",
       "\n",
       "    .dataframe tbody tr th {\n",
       "        vertical-align: top;\n",
       "    }\n",
       "\n",
       "    .dataframe thead th {\n",
       "        text-align: right;\n",
       "    }\n",
       "</style>\n",
       "<table border=\"1\" class=\"dataframe\">\n",
       "  <thead>\n",
       "    <tr style=\"text-align: right;\">\n",
       "      <th></th>\n",
       "      <th>Unnamed: 0</th>\n",
       "      <th>user</th>\n",
       "      <th>Email address</th>\n",
       "      <th>Date</th>\n",
       "      <th>1</th>\n",
       "      <th>2</th>\n",
       "      <th>3</th>\n",
       "      <th>4</th>\n",
       "      <th>5</th>\n",
       "      <th>6</th>\n",
       "      <th>...</th>\n",
       "      <th>46</th>\n",
       "      <th>47</th>\n",
       "      <th>48</th>\n",
       "      <th>49</th>\n",
       "      <th>50</th>\n",
       "      <th>Self</th>\n",
       "      <th>Emotions</th>\n",
       "      <th>motivating</th>\n",
       "      <th>Empathy</th>\n",
       "      <th>social</th>\n",
       "    </tr>\n",
       "  </thead>\n",
       "  <tbody>\n",
       "    <tr>\n",
       "      <th>0</th>\n",
       "      <td>0</td>\n",
       "      <td>19241A04C1</td>\n",
       "      <td>aishu123orange@gmail.com</td>\n",
       "      <td>Thursday, 28 November 2019, 10:01 AM</td>\n",
       "      <td>5</td>\n",
       "      <td>5</td>\n",
       "      <td>5</td>\n",
       "      <td>5</td>\n",
       "      <td>5</td>\n",
       "      <td>5</td>\n",
       "      <td>...</td>\n",
       "      <td>5</td>\n",
       "      <td>5</td>\n",
       "      <td>5</td>\n",
       "      <td>5</td>\n",
       "      <td>5</td>\n",
       "      <td>50</td>\n",
       "      <td>50</td>\n",
       "      <td>50</td>\n",
       "      <td>48</td>\n",
       "      <td>49</td>\n",
       "    </tr>\n",
       "  </tbody>\n",
       "</table>\n",
       "<p>1 rows × 59 columns</p>\n",
       "</div>"
      ],
      "text/plain": [
       "   Unnamed: 0        user             Email address  \\\n",
       "0           0  19241A04C1  aishu123orange@gmail.com   \n",
       "\n",
       "                                   Date  1  2  3  4  5  6  ...  46  47  48  \\\n",
       "0  Thursday, 28 November 2019, 10:01 AM  5  5  5  5  5  5  ...   5   5   5   \n",
       "\n",
       "   49  50  Self  Emotions  motivating  Empathy  social  \n",
       "0   5   5    50        50          50       48      49  \n",
       "\n",
       "[1 rows x 59 columns]"
      ]
     },
     "execution_count": 14,
     "metadata": {},
     "output_type": "execute_result"
    }
   ],
   "source": [
    "import pandas as pd\n",
    "newdata.to_csv(\"C:\\\\Users\\\\Prashant\\\\Desktop\\\\collegedata\\\\ecedata\\\\neweceC.csv\")\n",
    "data=pd.read_csv(r'C:\\Users\\Prashant\\Desktop\\collegedata\\ecedata\\neweceC.csv')\n",
    "data.head(1)"
   ]
  },
  {
   "cell_type": "code",
   "execution_count": null,
   "metadata": {},
   "outputs": [],
   "source": []
  },
  {
   "cell_type": "code",
   "execution_count": 15,
   "metadata": {},
   "outputs": [],
   "source": [
    "\n",
    "disct = {'user':data['user'],'self':data['Self'],'emotions':data['Emotions'],'motivating':data['motivating'],'Empathy':data['Empathy'],'social':data['social']}\n"
   ]
  },
  {
   "cell_type": "code",
   "execution_count": 16,
   "metadata": {},
   "outputs": [],
   "source": [
    "features=pd.DataFrame(disct)"
   ]
  },
  {
   "cell_type": "code",
   "execution_count": 18,
   "metadata": {},
   "outputs": [
    {
     "data": {
      "text/html": [
       "<div>\n",
       "<style scoped>\n",
       "    .dataframe tbody tr th:only-of-type {\n",
       "        vertical-align: middle;\n",
       "    }\n",
       "\n",
       "    .dataframe tbody tr th {\n",
       "        vertical-align: top;\n",
       "    }\n",
       "\n",
       "    .dataframe thead th {\n",
       "        text-align: right;\n",
       "    }\n",
       "</style>\n",
       "<table border=\"1\" class=\"dataframe\">\n",
       "  <thead>\n",
       "    <tr style=\"text-align: right;\">\n",
       "      <th></th>\n",
       "      <th>user</th>\n",
       "      <th>self</th>\n",
       "      <th>emotions</th>\n",
       "      <th>motivating</th>\n",
       "      <th>Empathy</th>\n",
       "      <th>social</th>\n",
       "    </tr>\n",
       "  </thead>\n",
       "  <tbody>\n",
       "    <tr>\n",
       "      <th>0</th>\n",
       "      <td>19241A04C1</td>\n",
       "      <td>50</td>\n",
       "      <td>50</td>\n",
       "      <td>50</td>\n",
       "      <td>48</td>\n",
       "      <td>49</td>\n",
       "    </tr>\n",
       "    <tr>\n",
       "      <th>1</th>\n",
       "      <td>19241A04C2</td>\n",
       "      <td>42</td>\n",
       "      <td>34</td>\n",
       "      <td>40</td>\n",
       "      <td>46</td>\n",
       "      <td>42</td>\n",
       "    </tr>\n",
       "    <tr>\n",
       "      <th>2</th>\n",
       "      <td>19241A04C3</td>\n",
       "      <td>46</td>\n",
       "      <td>41</td>\n",
       "      <td>47</td>\n",
       "      <td>43</td>\n",
       "      <td>49</td>\n",
       "    </tr>\n",
       "    <tr>\n",
       "      <th>3</th>\n",
       "      <td>19241A04C5</td>\n",
       "      <td>39</td>\n",
       "      <td>31</td>\n",
       "      <td>37</td>\n",
       "      <td>35</td>\n",
       "      <td>40</td>\n",
       "    </tr>\n",
       "    <tr>\n",
       "      <th>4</th>\n",
       "      <td>19241A04C6</td>\n",
       "      <td>44</td>\n",
       "      <td>48</td>\n",
       "      <td>35</td>\n",
       "      <td>43</td>\n",
       "      <td>45</td>\n",
       "    </tr>\n",
       "  </tbody>\n",
       "</table>\n",
       "</div>"
      ],
      "text/plain": [
       "         user  self  emotions  motivating  Empathy  social\n",
       "0  19241A04C1    50        50          50       48      49\n",
       "1  19241A04C2    42        34          40       46      42\n",
       "2  19241A04C3    46        41          47       43      49\n",
       "3  19241A04C5    39        31          37       35      40\n",
       "4  19241A04C6    44        48          35       43      45"
      ]
     },
     "execution_count": 18,
     "metadata": {},
     "output_type": "execute_result"
    }
   ],
   "source": [
    "features.head()"
   ]
  },
  {
   "cell_type": "code",
   "execution_count": 19,
   "metadata": {},
   "outputs": [],
   "source": [
    "import matplotlib.pyplot as plt"
   ]
  },
  {
   "cell_type": "code",
   "execution_count": 20,
   "metadata": {},
   "outputs": [],
   "source": [
    "\n",
    "\n",
    "import seaborn as sns\n",
    "import numpy as np\n",
    "\n"
   ]
  },
  {
   "cell_type": "code",
   "execution_count": 24,
   "metadata": {},
   "outputs": [
    {
     "data": {
      "text/plain": [
       "Text(0.5, 1.0, 'ECE-A')"
      ]
     },
     "execution_count": 24,
     "metadata": {},
     "output_type": "execute_result"
    },
    {
     "data": {
      "image/png": "[encoded data removed]",
      "text/plain": [
       "<Figure size 432x288 with 1 Axes>"
      ]
     },
     "metadata": {},
     "output_type": "display_data"
    }
   ],
   "source": [
    "values=[10,45]\n",
    "labels=[\"SelfAwareness Problem\",\"Normal students\"]\n",
    "explode=[0.2,0]\n",
    "color=['red','lime']\n",
    "plt.pie(values,labels=labels,autopct='%2f',explode=explode,colors=color)\n",
    "plt.title(\"ECE-C\")"
   ]
  },
  {
   "cell_type": "code",
   "execution_count": 23,
   "metadata": {},
   "outputs": [
    {
     "data": {
      "image/png": "[encoded data removed]",
      "text/plain": [
       "<Figure size 1080x288 with 1 Axes>"
      ]
     },
     "metadata": {
      "needs_background": "light"
     },
     "output_type": "display_data"
    },
    {
     "name": "stdout",
     "output_type": "stream",
     "text": [
      "student having marks below 35 10\n",
      "student having marks above 35 45\n"
     ]
    }
   ],
   "source": [
    "me= pd.DataFrame(features['self'], columns=['self'])\n",
    "\n",
    "\n",
    "x = features['user']\n",
    "y = me['self'].sort_values()\n",
    "\n",
    "mask1 = y <= 35\n",
    "mask2 = y > 35\n",
    "\n",
    "fig = plt.figure()\n",
    "plt.xticks(rotation=90)\n",
    "fig.set_figheight(4)\n",
    "fig.set_figwidth(15)\n",
    "plt.axhline(y=35,linewidth=1,ls='-.')\n",
    "\n",
    "\n",
    "plt.bar(x[mask1], y[mask1], color = 'red')\n",
    "\n",
    "plt.bar(x[mask2], y[mask2], color = 'lime')\n",
    "plt.title('SelfAwareness')\n",
    "plt.gca().legend(('score=35','score<35'))\n",
    "plt.xlabel('Students')\n",
    "plt.ylabel('Score')\n",
    "plt.show()\n",
    "print(\"student having marks below 35\",len(x[mask1]))\n",
    "print(\"student having marks above 35\",len(x[mask2]))\n"
   ]
  },
  {
   "cell_type": "markdown",
   "metadata": {},
   "source": [
    "### Social"
   ]
  },
  {
   "cell_type": "code",
   "execution_count": null,
   "metadata": {},
   "outputs": [],
   "source": []
  },
  {
   "cell_type": "code",
   "execution_count": 25,
   "metadata": {},
   "outputs": [],
   "source": [
    "## Empathy"
   ]
  },
  {
   "cell_type": "code",
   "execution_count": 28,
   "metadata": {},
   "outputs": [
    {
     "data": {
      "text/plain": [
       "Text(0.5, 1.0, 'ECE-A')"
      ]
     },
     "execution_count": 28,
     "metadata": {},
     "output_type": "execute_result"
    },
    {
     "data": {
      "image/png": "[encoded data removed]",
      "text/plain": [
       "<Figure size 432x288 with 1 Axes>"
      ]
     },
     "metadata": {},
     "output_type": "display_data"
    }
   ],
   "source": [
    "values=[12,43]\n",
    "labels=[\"Low Empathy\",\"Normal students\"]\n",
    "explode=[0.2,0]\n",
    "color=['red','lime']\n",
    "plt.pie(values,labels=labels,autopct='%2f',explode=explode,colors=color)\n",
    "plt.title(\"ECE-C\")"
   ]
  },
  {
   "cell_type": "code",
   "execution_count": 27,
   "metadata": {},
   "outputs": [
    {
     "data": {
      "image/png": "[encoded data removed]",
      "text/plain": [
       "<Figure size 1080x288 with 1 Axes>"
      ]
     },
     "metadata": {
      "needs_background": "light"
     },
     "output_type": "display_data"
    },
    {
     "name": "stdout",
     "output_type": "stream",
     "text": [
      "student having marks below 35 12\n",
      "student having marks above 35 43\n"
     ]
    }
   ],
   "source": [
    "\n",
    "\n",
    "import numpy as np\n",
    "import matplotlib.pyplot as plt\n",
    "\n",
    "dict = {'Empathy':features['Empathy']}\n",
    "empathy = pd.DataFrame(dict)\n",
    "x = features['user']\n",
    "y = empathy['Empathy'].sort_values()\n",
    "fig = plt.figure()\n",
    "fig.set_figheight(4)\n",
    "fig.set_figwidth(15)\n",
    "mask1 = y <= 35\n",
    "mask2 = y > 35\n",
    "plt.xticks(rotation=90)\n",
    "plt.axhline(y=35,linewidth=1,ls='-.',color='red')\n",
    "plt.bar(x[mask1], y[mask1], color = 'red')\n",
    "plt.bar(x[mask2], y[mask2], color = 'lime')\n",
    "plt.xlabel(\"Students\")\n",
    "plt.ylabel(\"Score\")\n",
    "\n",
    "plt.gca().legend(('score=35','score<35'))\n",
    "\n",
    "plt.show()\n",
    "print(\"student having marks below 35\",len(x[mask1]))\n",
    "print(\"student having marks above 35\",len(x[mask2]))\n",
    "\n",
    "\n"
   ]
  },
  {
   "cell_type": "code",
   "execution_count": 29,
   "metadata": {},
   "outputs": [],
   "source": [
    "## Emotions"
   ]
  },
  {
   "cell_type": "code",
   "execution_count": 37,
   "metadata": {},
   "outputs": [
    {
     "data": {
      "text/plain": [
       "Text(0.5, 1.0, 'ECE-C')"
      ]
     },
     "execution_count": 37,
     "metadata": {},
     "output_type": "execute_result"
    },
    {
     "data": {
      "image/png": "[encoded data removed]",
      "text/plain": [
       "<Figure size 432x288 with 1 Axes>"
      ]
     },
     "metadata": {},
     "output_type": "display_data"
    }
   ],
   "source": [
    "values=[25,30]\n",
    "labels=[\"Emotion\",\"Normal students\"]\n",
    "explode=[0.2,0]\n",
    "color=['red','lime']\n",
    "plt.pie(values,labels=labels,autopct='%2f',explode=explode,colors=color)\n",
    "plt.title(\"ECE-C\")"
   ]
  },
  {
   "cell_type": "code",
   "execution_count": 31,
   "metadata": {},
   "outputs": [
    {
     "data": {
      "image/png": "[encoded data removed]",
      "text/plain": [
       "<Figure size 1080x288 with 1 Axes>"
      ]
     },
     "metadata": {
      "needs_background": "light"
     },
     "output_type": "display_data"
    },
    {
     "name": "stdout",
     "output_type": "stream",
     "text": [
      "student having marks below 35 25\n",
      "student having marks above 35 30\n"
     ]
    }
   ],
   "source": [
    "import numpy as np\n",
    "import matplotlib.pyplot as plt\n",
    "\n",
    "dict = {'emotions':features['emotions']}\n",
    "emotions = pd.DataFrame(dict)\n",
    "x = features['user']\n",
    "y = emotions['emotions'].sort_values()\n",
    "fig = plt.figure()\n",
    "fig.set_figheight(4)\n",
    "fig.set_figwidth(15)\n",
    "mask1 = y <= 35\n",
    "mask2 = y > 35\n",
    "plt.xticks(rotation=90)\n",
    "plt.axhline(y=35,linewidth=1,ls='-.',color='red')\n",
    "plt.bar(x[mask1], y[mask1], color = 'red')\n",
    "plt.bar(x[mask2], y[mask2], color = 'lime')\n",
    "plt.xlabel(\"Students\")\n",
    "plt.ylabel(\"Score\")\n",
    "\n",
    "plt.gca().legend(('score=35','score<35'))\n",
    "\n",
    "plt.show()\n",
    "print(\"student having marks below 35\",len(x[mask1]))\n",
    "print(\"student having marks above 35\",len(x[mask2]))"
   ]
  },
  {
   "cell_type": "code",
   "execution_count": 33,
   "metadata": {},
   "outputs": [],
   "source": [
    "## Motivating one self"
   ]
  },
  {
   "cell_type": "code",
   "execution_count": 36,
   "metadata": {},
   "outputs": [
    {
     "data": {
      "text/plain": [
       "Text(0.5, 1.0, 'ECE-A')"
      ]
     },
     "execution_count": 36,
     "metadata": {},
     "output_type": "execute_result"
    },
    {
     "data": {
      "image/png": "[encoded data removed]",
      "text/plain": [
       "<Figure size 432x288 with 1 Axes>"
      ]
     },
     "metadata": {},
     "output_type": "display_data"
    }
   ],
   "source": [
    "values=[22,33]\n",
    "labels=[\"Motivating-oneself Problem\",\"Normal students\"]\n",
    "explode=[0.2,0]\n",
    "color=['red','lime']\n",
    "plt.pie(values,labels=labels,autopct='%2f',explode=explode,colors=color)\n",
    "plt.title(\"ECE-C\")\n"
   ]
  },
  {
   "cell_type": "code",
   "execution_count": 35,
   "metadata": {},
   "outputs": [
    {
     "data": {
      "image/png": "[encoded data removed]",
      "text/plain": [
       "<Figure size 1080x288 with 1 Axes>"
      ]
     },
     "metadata": {
      "needs_background": "light"
     },
     "output_type": "display_data"
    },
    {
     "name": "stdout",
     "output_type": "stream",
     "text": [
      "student having marks below 35 22\n",
      "student having marks above 35 33\n"
     ]
    }
   ],
   "source": [
    "import numpy as np\n",
    "import matplotlib.pyplot as plt\n",
    "\n",
    "dict = {'motivating':features['motivating']}\n",
    "motivating = pd.DataFrame(dict)\n",
    "x = features['user']\n",
    "y = motivating['motivating'].sort_values()\n",
    "fig = plt.figure()\n",
    "fig.set_figheight(4)\n",
    "fig.set_figwidth(15)\n",
    "mask1 = y <= 35\n",
    "mask2 = y > 35\n",
    "plt.xticks(rotation=90)\n",
    "plt.axhline(y=35,linewidth=1,ls='-.',color='red')\n",
    "plt.bar(x[mask1], y[mask1], color = 'red')\n",
    "plt.bar(x[mask2], y[mask2], color = 'lime')\n",
    "plt.xlabel(\"Students\")\n",
    "plt.ylabel(\"Score\")\n",
    "\n",
    "plt.gca().legend(('score=35','score<35'))\n",
    "\n",
    "plt.show()\n",
    "print(\"student having marks below 35\",len(x[mask1]))\n",
    "print(\"student having marks above 35\",len(x[mask2]))"
   ]
  },
  {
   "cell_type": "code",
   "execution_count": null,
   "metadata": {},
   "outputs": [],
   "source": []
  }
 ],
 "metadata": {
  "kernelspec": {
   "display_name": "Python 3",
   "language": "python",
   "name": "python3"
  },
  "language_info": {
   "codemirror_mode": {
    "name": "ipython",
    "version": 3
   },
   "file_extension": ".py",
   "mimetype": "text/x-python",
   "name": "python",
   "nbconvert_exporter": "python",
   "pygments_lexer": "ipython3",
   "version": "3.7.3"
  }
 },
 "nbformat": 4,
 "nbformat_minor": 2
}
